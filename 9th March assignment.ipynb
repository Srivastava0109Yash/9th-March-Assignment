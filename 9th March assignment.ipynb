{
 "cells": [
  {
   "cell_type": "markdown",
   "id": "d21c444d",
   "metadata": {},
   "source": [
    "### Q1: What are the Probability Mass Function (PMF) and Probability Density Function (PDF)? Explain with an example."
   ]
  },
  {
   "cell_type": "markdown",
   "id": "78025d5d",
   "metadata": {},
   "source": [
    " __PMF__ is used for discrete random variables, which take on a countable set of values. It gives the probability that a random variable X takes on a particular value k, denoted by P(X=k)."
   ]
  },
  {
   "cell_type": "markdown",
   "id": "e69b532b",
   "metadata": {},
   "source": [
    "__Example__"
   ]
  },
  {
   "cell_type": "markdown",
   "id": "85aecf6c",
   "metadata": {},
   "source": [
    "let's say we have a fair six-sided die. The PMF for this die would be:\n",
    "\n",
    "- P(X=1) = 1/6\n",
    "- P(X=2) = 1/6\n",
    "- P(X=3) = 1/6\n",
    "- P(X=4) = 1/6\n",
    "- P(X=5) = 1/6\n",
    "- P(X=6) = 1/6"
   ]
  },
  {
   "cell_type": "markdown",
   "id": "aa615734",
   "metadata": {},
   "source": [
    "__PDF__ is used for continuous random variables, which can take on any value in a given range. It gives the probability density at a particular point x, denoted by f(x). The probability of the random variable X taking on a value in a particular interval [a,b] is given by the area under the PDF curve between a and b.\n",
    "\n",
    "f(x) = (1/sqrt(2*pi)) * exp(-(x^2)/2)"
   ]
  },
  {
   "cell_type": "markdown",
   "id": "4060050a",
   "metadata": {},
   "source": [
    "__Example__"
   ]
  },
  {
   "cell_type": "markdown",
   "id": "2a02d53a",
   "metadata": {},
   "source": [
    "the probability of X taking on a value between -1 and 1 is:\n",
    "\n",
    "P(-1 < X < 1) = integral from -1 to 1 of f(x) dx\n",
    "= 0.6827 (approximately)\n",
    "\n",
    "This means that there is a 68.27% chance that X will take on a value between -1 and 1."
   ]
  },
  {
   "cell_type": "code",
   "execution_count": null,
   "id": "daeb24c4",
   "metadata": {},
   "outputs": [],
   "source": []
  },
  {
   "cell_type": "markdown",
   "id": "17df1eae",
   "metadata": {},
   "source": [
    "### Q2: What is Cumulative Density Function (CDF)? Explain with an example. Why CDF is used?"
   ]
  },
  {
   "cell_type": "markdown",
   "id": "7821408a",
   "metadata": {},
   "source": [
    "__The Cumulative Distribution Function (CDF)__ is a mathematical function that describes the probability that a random variable X takes on a value less than or equal to a given input x. It is defined as:\n",
    "\n",
    "F(x) = P(X ≤ x)"
   ]
  },
  {
   "cell_type": "markdown",
   "id": "c05cdc96",
   "metadata": {},
   "source": [
    "For example, let's consider the same fair six-sided die from the previous question. The CDF for this die would be:\n",
    "\n",
    "F(x) = P(X ≤ x)\n",
    "\n",
    "- F(1) = 1/6\n",
    "- F(2) = 2/6\n",
    "- F(3) = 3/6\n",
    "- F(4) = 4/6\n",
    "- F(5) = 5/6\n",
    "- F(6) = 1"
   ]
  },
  {
   "cell_type": "markdown",
   "id": "23119b49",
   "metadata": {},
   "source": [
    "- This CDF tells us that the probability of rolling a number less than or equal to 1 is 1/6, the probability of rolling a number less than or equal to 2 is 2/6 (or 1/3), and so on"
   ]
  },
  {
   "cell_type": "markdown",
   "id": "eec21907",
   "metadata": {},
   "source": [
    "- example, the probability of rolling a number between 2 and 4 on the six-sided die can be calculated using the CDF:\n",
    "\n",
    "       P(2 ≤ X ≤ 4) = F(4) - F(1) = 4/6 - 1/6 = 1/2"
   ]
  },
  {
   "cell_type": "markdown",
   "id": "36185a45",
   "metadata": {},
   "source": [
    "The CDF is used because it provides a useful summary of the distribution of a random variable. Specifically, the CDF provides information about the range of values that a random variable is likely to take on, as well as the probability of the random variable taking on a particular value or range of values."
   ]
  },
  {
   "cell_type": "code",
   "execution_count": null,
   "id": "e594ba03",
   "metadata": {},
   "outputs": [],
   "source": []
  },
  {
   "cell_type": "markdown",
   "id": "86117d28",
   "metadata": {},
   "source": [
    "### Q3: What are some examples of situations where the normal distribution might be used as a model? Explain how the parameters of the normal distribution relate to the shape of the distribution."
   ]
  },
  {
   "cell_type": "markdown",
   "id": "510c7bde",
   "metadata": {},
   "source": [
    "The normal distribution is a continuous probability distribution that is commonly used to model real-world phenomena in various fields, including finance, physics, engineering, and social sciences. Some examples of situations where the normal distribution might be used as a model include:\n",
    "\n",
    "- Heights and weights of people in a population.\n",
    "- Scores on standardized tests such as the SAT or ACT.\n",
    "- Errors in measurements or experimental data.\n",
    "- Returns on investments in financial markets.\n",
    "- Time taken to complete a task."
   ]
  },
  {
   "cell_type": "markdown",
   "id": "37ed9299",
   "metadata": {},
   "source": [
    "The normal distribution is characterized by two parameters: the mean (μ) and the standard deviation (σ)."
   ]
  },
  {
   "cell_type": "markdown",
   "id": "09462899",
   "metadata": {},
   "source": [
    "The mean represents the center or location of the distribution, while the standard deviation represents the spread or variability of the distribution.\n",
    "\n",
    "The shape of the normal distribution is symmetric and bell-shaped, with the highest point at the mean. The standard deviation determines the width of the distribution, with larger values of σ resulting in a wider distribution and smaller values of σ resulting in a narrower distribution."
   ]
  },
  {
   "cell_type": "code",
   "execution_count": null,
   "id": "f2a45d45",
   "metadata": {},
   "outputs": [],
   "source": []
  },
  {
   "cell_type": "markdown",
   "id": "1398b25e",
   "metadata": {},
   "source": [
    "### Q4: Explain the importance of Normal Distribution. Give a few real-life examples of Normal Distribution."
   ]
  },
  {
   "cell_type": "markdown",
   "id": "2e7f0f1b",
   "metadata": {},
   "source": [
    "Normal distribution, also known as Gaussian distribution, is one of the most important probability distributions in statistics. It has a bell-shaped curve, where the mean, median, and mode are all equal, and the area under the curve between any two points is the probability that the random variable falls between those two points. The importance of normal distribution lies in its ability to model a wide range of phenomena in nature and society, making it a valuable tool in data analysis and decision-making"
   ]
  },
  {
   "cell_type": "markdown",
   "id": "baa34e9e",
   "metadata": {},
   "source": [
    "Real-life examples of normal distribution include:\n",
    "\n",
    "- Heights of people in a population\n",
    "- IQ scores on standardized tests\n",
    "- Weight of a product manufactured in a factory\n",
    "- Time taken by a computer system to process a task\n",
    "- Blood pressure readings of a group of people\n",
    "- Scores on a standardized fitness test"
   ]
  },
  {
   "cell_type": "code",
   "execution_count": null,
   "id": "7bd55204",
   "metadata": {},
   "outputs": [],
   "source": []
  },
  {
   "cell_type": "markdown",
   "id": "a7102206",
   "metadata": {},
   "source": [
    "### Q5: What is Bernaulli Distribution? Give an Example. What is the difference between Bernoulli Distribution and Binomial Distribution?"
   ]
  },
  {
   "cell_type": "markdown",
   "id": "9a369427",
   "metadata": {},
   "source": [
    "__Bernoulli distribution__ is a discrete probability distribution that models the outcome of a single trial of a binary experiment, where the outcome can be either success or failure. It is named after Swiss mathematician Jacob Bernoulli. The probability distribution function of Bernoulli distribution is given by:\n",
    "\n",
    "P(X = 1) = p\n",
    "\n",
    "P(X = 0) = 1 - p\n",
    "\n",
    "where X is a random variable that takes values of 1 or 0 depending on whether the outcome of the trial is success or failure, respectively, and p is the probability of success.\n",
    "\n",
    "An example of Bernoulli distribution is the outcome of a single coin toss, where the outcome can be either heads (success) or tails (failure), and the probability of getting heads is p."
   ]
  },
  {
   "cell_type": "markdown",
   "id": "d2b2e61d",
   "metadata": {},
   "source": [
    "__The key difference between Bernoulli distribution and Binomial distribution is that__:\n",
    "\n",
    "Bernoulli distribution models the outcome of a single trial, while Binomial distribution models the outcome of a fixed number of independent and identical Bernoulli trials. In other words, Bernoulli distribution is a special case of Binomial distribution where the number of trials is equal to one."
   ]
  },
  {
   "cell_type": "markdown",
   "id": "894a7323",
   "metadata": {},
   "source": [
    "The probability mass function (PMF) of Binomial distribution is given by:\n",
    "\n",
    "P(X = k) = (n choose k) * p^k * (1-p)^(n-k)\n",
    "\n",
    "where X is a random variable that represents the number of successes in n independent and identical Bernoulli trials, p is the probability of success in each trial, and (n choose k) represents the number of ways to choose k successes out of n trials."
   ]
  },
  {
   "cell_type": "code",
   "execution_count": null,
   "id": "ddf4f51c",
   "metadata": {},
   "outputs": [],
   "source": []
  },
  {
   "cell_type": "markdown",
   "id": "4ac26a20",
   "metadata": {},
   "source": [
    "### Q6: Consider a dataset with a mean of 50 and a standard deviation of 10. If we assume that the dataset is normally distributed, what is the probability that a randomly selected observation will be greater than 60? Use the appropriate formula and show your calculations."
   ]
  },
  {
   "cell_type": "markdown",
   "id": "2d1750e3",
   "metadata": {},
   "source": [
    "- mean(μ)=50\n",
    "- standard deviation(σ)=10"
   ]
  },
  {
   "cell_type": "markdown",
   "id": "7aabe171",
   "metadata": {},
   "source": [
    "We need to find the probability that a randomly selected observation will be greater than 60 (x).\n",
    "\n",
    "Using the standard normal distribution formula:\n",
    "\n",
    "z = (x - μ) / σ"
   ]
  },
  {
   "cell_type": "markdown",
   "id": "e3d941d5",
   "metadata": {},
   "source": [
    "Substituting the given values, we get:\n",
    "    \n",
    "    z=(60-50)/10 = 1"
   ]
  },
  {
   "cell_type": "markdown",
   "id": "7470b9df",
   "metadata": {},
   "source": [
    "P(z>1)=?"
   ]
  },
  {
   "cell_type": "markdown",
   "id": "0a1da9fb",
   "metadata": {},
   "source": [
    " Using the standard normal distribution table or calculator, we find that the probability of z being greater than 1 is approximately 0.1587.\n",
    "\n",
    "Therefore, the probability that a randomly selected observation will be greater than 60 is approximately 0.1587 or 15.87%."
   ]
  },
  {
   "cell_type": "markdown",
   "id": "9b0f240f",
   "metadata": {},
   "source": [
    "__P(z>1) = 0.1587__"
   ]
  },
  {
   "cell_type": "code",
   "execution_count": null,
   "id": "8587ac0d",
   "metadata": {},
   "outputs": [],
   "source": []
  },
  {
   "cell_type": "markdown",
   "id": "97ac3947",
   "metadata": {},
   "source": [
    "### Q7: Explain uniform Distribution with an example."
   ]
  },
  {
   "cell_type": "markdown",
   "id": "af1386c6",
   "metadata": {},
   "source": [
    "Uniform distribution is a continuous probability distribution that models the probability of a random variable taking on any value between two endpoints with equal probability. It is also called rectangular distribution due to its rectangular shape."
   ]
  },
  {
   "cell_type": "markdown",
   "id": "c42d6da2",
   "metadata": {},
   "source": [
    "For example, suppose we have a random variable X that represents the outcome of rolling a fair six-sided die. The possible outcomes are 1, 2, 3, 4, 5, and 6, and each outcome has an equal probability of occurring, which is 1/6. The distribution of X is a discrete uniform distribution because each outcome has an equal probability of occurring.\n",
    "\n",
    "Now, let's consider a continuous uniform distribution with endpoints a and b, where a and b are real numbers such that a < b. The probability density function (PDF) of this distribution is given by:\n",
    "\n",
    "- f(x) = 1 / (b - a), for a <= x <= b\n",
    "- f(x) = 0, otherwise"
   ]
  },
  {
   "cell_type": "code",
   "execution_count": null,
   "id": "fcc94e51",
   "metadata": {},
   "outputs": [],
   "source": []
  },
  {
   "cell_type": "markdown",
   "id": "c0c167c4",
   "metadata": {},
   "source": [
    "### Q8: What is the z score? State the importance of the z score."
   ]
  },
  {
   "cell_type": "markdown",
   "id": "6fc6c3e8",
   "metadata": {},
   "source": [
    "The z-score, also known as the standard score, is a measure of how many standard deviations an observation or data point is from the mean of a distribution. It is calculated as the difference between the observed value and the mean divided by the standard deviation.\n",
    "\n",
    "The formula for calculating the z-score of an observation x in a normally distributed population is:\n",
    "\n",
    "z = (x - μ) / σ\n",
    "\n",
    "where μ is the mean of the population, σ is the standard deviation of the population, and x is the observed value."
   ]
  },
  {
   "cell_type": "markdown",
   "id": "6ed25fd1",
   "metadata": {},
   "source": [
    "__The importance of the z-score__ lies in its usefulness in hypothesis testing and statistical inference. It allows us to calculate probabilities associated with a specific observation or sample mean, which can be used to make inferences about the population mean. The z-score is also used in quality control processes to determine whether a data point or observation falls within acceptable limits or is an outlier."
   ]
  },
  {
   "cell_type": "code",
   "execution_count": null,
   "id": "fece1844",
   "metadata": {},
   "outputs": [],
   "source": []
  },
  {
   "cell_type": "markdown",
   "id": "882f6a65",
   "metadata": {},
   "source": [
    "### Q9: What is Central Limit Theorem? State the significance of the Central Limit Theorem."
   ]
  },
  {
   "cell_type": "markdown",
   "id": "8f74ad69",
   "metadata": {},
   "source": [
    "The Central Limit Theorem (CLT) is a fundamental concept in statistics that states that for a large enough sample size, the sampling distribution of the sample means will approach a normal distribution, regardless of the underlying distribution of the population. This means that if we take multiple random samples from a population and calculate the mean of each sample, the distribution of those means will be approximately normal, even if the population distribution is not normal."
   ]
  },
  {
   "cell_type": "markdown",
   "id": "c845bdbe",
   "metadata": {},
   "source": [
    "- The significance of the CLT lies in its applications in inferential statistics. It allows us to make inferences about the population mean using the sample mean and standard deviation. The normal distribution is well understood and has many useful properties, including the ability to calculate probabilities and confidence intervals.\n",
    "\n",
    "- The CLT is also important in quality control, as it allows us to assess whether a process is producing products that meet the required specifications by using the sample mean and standard deviation"
   ]
  },
  {
   "cell_type": "code",
   "execution_count": null,
   "id": "6698df8d",
   "metadata": {},
   "outputs": [],
   "source": []
  },
  {
   "cell_type": "markdown",
   "id": "0afb5bc3",
   "metadata": {},
   "source": [
    "### Q10: State the assumptions of the Central Limit Theorem."
   ]
  },
  {
   "cell_type": "markdown",
   "id": "69d9ae98",
   "metadata": {},
   "source": [
    "The Central Limit Theorem (CLT) is a fundamental concept in statistics that states that for a large enough sample size, the sampling distribution of the sample means will approach a normal distribution, regardless of the underlying distribution of the population. However, the CLT has some assumptions that must be met in order for it to be valid:\n",
    "\n",
    "- Random sampling: The samples must be selected randomly and independently from the population.\n",
    "\n",
    "- Sample size: The sample size should be large enough. There is no set rule for how large the sample size should be, but as a general guideline, a sample size of at least 30 is usually considered large enough.\n",
    "\n",
    "- Independence: The sample observations must be independent of each other. In other words, the value of one observation should not be influenced by the value of another observation.\n",
    "\n",
    "- Finite variance: The population from which the samples are drawn must have a finite variance."
   ]
  }
 ],
 "metadata": {
  "kernelspec": {
   "display_name": "Python 3 (ipykernel)",
   "language": "python",
   "name": "python3"
  },
  "language_info": {
   "codemirror_mode": {
    "name": "ipython",
    "version": 3
   },
   "file_extension": ".py",
   "mimetype": "text/x-python",
   "name": "python",
   "nbconvert_exporter": "python",
   "pygments_lexer": "ipython3",
   "version": "3.9.7"
  }
 },
 "nbformat": 4,
 "nbformat_minor": 5
}
